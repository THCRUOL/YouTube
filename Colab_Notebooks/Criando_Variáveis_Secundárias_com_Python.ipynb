{
  "nbformat": 4,
  "nbformat_minor": 0,
  "metadata": {
    "colab": {
      "provenance": [],
      "private_outputs": true,
      "collapsed_sections": [
        "xXOdir4iY_20",
        "VQFQbkyFZGjx",
        "qVUaa1rAb2Ng",
        "xB2L0eJ3b78Q",
        "Wa6K6Gd0q4AE",
        "tAVYFVLDq7pi",
        "yRdFZj_srEug",
        "A7iIOd0JrFDt",
        "9pDnqCVjrFWb",
        "WbTRDuLlrFn-",
        "RZNVQUJxb-wQ",
        "fkQMmv6HtHT4",
        "OGuzEaeAtHwj",
        "4BUM7RnGtH_M",
        "XufP57TFtIMd",
        "1Rhc0GL4cCO7",
        "lDqfVZoTtwUN",
        "1Qxm8aEctwn0",
        "v0JRW_fItw1M",
        "8oSnnmZOtxCL"
      ]
    },
    "kernelspec": {
      "name": "python3",
      "display_name": "Python 3"
    },
    "language_info": {
      "name": "python"
    }
  },
  "cells": [
    {
      "cell_type": "markdown",
      "source": [
        "### Importando as Bibliotecas e Funções"
      ],
      "metadata": {
        "id": "xXOdir4iY_20"
      }
    },
    {
      "cell_type": "code",
      "execution_count": null,
      "metadata": {
        "id": "CgXVLwHXOyjd"
      },
      "outputs": [],
      "source": [
        "import pandas as pd\n",
        "import numpy as np\n",
        "import matplotlib.pyplot as plt\n",
        "\n",
        "import warnings\n",
        "warnings.filterwarnings('ignore')\n",
        "\n",
        "pd.set_option('display.max_columns', None)\n",
        "# pd.set_option('display.max_rows', None)"
      ]
    },
    {
      "cell_type": "code",
      "source": [
        "def drop_reset_index(df):\n",
        "    df = df.dropna()\n",
        "    df = df.reset_index(drop=True)\n",
        "    df.index += 1\n",
        "    return df\n",
        "\n",
        "def plot_profit_acu(dataframe, title_text):\n",
        "    dataframe['Profit_acu'] = dataframe.Profit.cumsum()\n",
        "    dataframe['Investimento'] = 1\n",
        "    n_apostas = dataframe.shape[0]\n",
        "    profit = round(dataframe.Profit_acu.tail(1).item(), 2)\n",
        "    dataframe['Investimento_acu'] = dataframe.Investimento.cumsum()\n",
        "    ROI = round(((dataframe.Profit_acu.tail(1) / dataframe.Investimento_acu.tail(1)) * 100).item(), 2)\n",
        "    drawdown = dataframe['Profit_acu'] - dataframe['Profit_acu'].cummax()\n",
        "    drawdown_maximo = round(drawdown.min(), 2)\n",
        "    winrate_medio = round((dataframe['Profit'] > 0).mean() * 100, 2)\n",
        "    desvio_padrao = round(dataframe['Profit'].std(), 2)\n",
        "\n",
        "    ax = dataframe.Profit_acu.plot(title=title_text, xlabel='Entradas', ylabel='Stakes')\n",
        "    ax.set_title(title_text)\n",
        "    ax.set_xlabel('Entradas')\n",
        "    ax.set_ylabel('Stakes')\n",
        "\n",
        "    print(\"Metodo:\", title_text)\n",
        "    print(\"Profit:\", profit, \"stakes em\", n_apostas, \"jogos\")\n",
        "    print(\"ROI:\", ROI, \"%\")\n",
        "    print(\"Drawdown Maximo Acumulado:\", drawdown_maximo)\n",
        "    print(\"Winrate Medio:\", winrate_medio, \"%\")\n",
        "    print(\"Desvio Padrao:\", desvio_padrao)\n",
        "    print(\"\")\n",
        "\n",
        "    plt.show()"
      ],
      "metadata": {
        "id": "weVGF4JGdEUC"
      },
      "execution_count": null,
      "outputs": []
    },
    {
      "cell_type": "markdown",
      "source": [
        "### Importando a Base de Dados"
      ],
      "metadata": {
        "id": "VQFQbkyFZGjx"
      }
    },
    {
      "cell_type": "code",
      "source": [
        "df = pd.read_csv('https://github.com/futpythontrader/YouTube/raw/refs/heads/main/Bases_de_Dados/FootyStats/Base_de_Dados_FootyStats_(2022_2024).csv')\n",
        "df = df[['League','Season','Date','Rodada','Home','Away',\n",
        "         'Goals_H_FT','Goals_A_FT','TotalGoals_FT','Goals_H_Minutes','Goals_A_Minutes',\n",
        "         'Odd_H_FT','Odd_D_FT','Odd_A_FT','Odd_Over25_FT','Odd_Under25_FT','Odd_BTTS_Yes','Odd_BTTS_No','Odd_DC_1X','Odd_DC_12','Odd_DC_X2']]\n",
        "df = drop_reset_index(df)\n",
        "display(df)"
      ],
      "metadata": {
        "id": "EddYaEQSZEzY"
      },
      "execution_count": null,
      "outputs": []
    },
    {
      "cell_type": "code",
      "source": [
        "columns_to_filter = [\n",
        "    'Odd_Over25_FT', 'Odd_Under25_FT', 'Odd_BTTS_Yes',\n",
        "    'Odd_BTTS_No', 'Odd_DC_1X', 'Odd_DC_12', 'Odd_DC_X2'\n",
        "]\n",
        "df = df[(df[columns_to_filter] != 0).all(axis=1)]\n",
        "df = drop_reset_index(df)\n",
        "\n",
        "display(df)"
      ],
      "metadata": {
        "id": "Rt3AaajUePCJ"
      },
      "execution_count": null,
      "outputs": []
    },
    {
      "cell_type": "markdown",
      "source": [
        "### Profits dos Mercados de MO, OU25 e BTTS"
      ],
      "metadata": {
        "id": "qVUaa1rAb2Ng"
      }
    },
    {
      "cell_type": "code",
      "source": [
        "df['Back_Home'] = np.where((df['Goals_H_FT'] > df['Goals_A_FT']), 1, 0)\n",
        "df['Profit_Back_Home'] = np.where((df['Back_Home'] == 1), df['Odd_H_FT']-1, -1)\n",
        "\n",
        "df['Back_Draw'] = np.where((df['Goals_H_FT'] == df['Goals_A_FT']), 1, 0)\n",
        "df['Profit_Back_Draw'] = np.where((df['Back_Draw'] == 1), df['Odd_D_FT']-1, -1)\n",
        "\n",
        "df['Back_Away'] = np.where((df['Goals_H_FT'] < df['Goals_A_FT']), 1, 0)\n",
        "df['Profit_Back_Away'] = np.where((df['Back_Away'] == 1), df['Odd_A_FT']-1, -1)\n",
        "\n",
        "display(df)"
      ],
      "metadata": {
        "id": "pdAvrvIEZQx4"
      },
      "execution_count": null,
      "outputs": []
    },
    {
      "cell_type": "code",
      "source": [
        "df['Lay_Home'] = np.where((df['Goals_H_FT'] <= df['Goals_A_FT']), 1, 0)\n",
        "df['Profit_Lay_Home'] = np.where((df['Lay_Home'] == 1), df['Odd_DC_X2']-1, -1)\n",
        "\n",
        "df['Lay_Draw'] = np.where((df['Goals_H_FT'] != df['Goals_A_FT']), 1, 0)\n",
        "df['Profit_Lay_Draw'] = np.where((df['Lay_Draw'] == 1), df['Odd_DC_12']-1, -1)\n",
        "\n",
        "df['Lay_Away'] = np.where((df['Goals_H_FT'] >= df['Goals_A_FT']), 1, 0)\n",
        "df['Profit_Lay_Away'] = np.where((df['Lay_Away'] == 1), df['Odd_DC_1X']-1, -1)\n",
        "\n",
        "display(df)"
      ],
      "metadata": {
        "id": "M0_5JyyYcvHl"
      },
      "execution_count": null,
      "outputs": []
    },
    {
      "cell_type": "code",
      "source": [
        "df['Over_25'] = np.where((df['TotalGoals_FT'] > 2), 1, 0)\n",
        "df['Profit_Over_25'] = np.where((df['Over_25'] == 1), df['Odd_Over25_FT']-1, -1)\n",
        "\n",
        "df['Under_25'] = np.where((df['TotalGoals_FT'] < 3), 1, 0)\n",
        "df['Profit_Under_25'] = np.where((df['Under_25'] == 1), df['Odd_Under25_FT']-1, -1)\n",
        "\n",
        "display(df)"
      ],
      "metadata": {
        "id": "cdFmza-hel2y"
      },
      "execution_count": null,
      "outputs": []
    },
    {
      "cell_type": "code",
      "source": [
        "df['BTTS_Yes'] = np.where(((df['Goals_H_FT'] > 0) & (df['Goals_A_FT'] > 0)), 1, 0)\n",
        "df['Profit_BTTS_Yes'] = np.where((df['BTTS_Yes'] == 1), df['Odd_BTTS_Yes']-1, -1)\n",
        "\n",
        "df['BTTS_No'] = np.where(((df['Goals_H_FT'] == 0) | (df['Goals_A_FT'] == 0)), 1, 0)\n",
        "df['Profit_BTTS_No'] = np.where((df['BTTS_No'] == 1), df['Odd_BTTS_No']-1, -1)\n",
        "\n",
        "display(df)"
      ],
      "metadata": {
        "id": "eGomDPhQfAPE"
      },
      "execution_count": null,
      "outputs": []
    },
    {
      "cell_type": "code",
      "source": [
        "# modelo = 'Back_Home'\n",
        "\n",
        "# df['Profit'] = df[f'Profit_{modelo}']\n",
        "# plot_profit_acu(df, f'{modelo}')"
      ],
      "metadata": {
        "id": "IDezE5RrfedY"
      },
      "execution_count": null,
      "outputs": []
    },
    {
      "cell_type": "markdown",
      "source": [
        "### Probabilidades, CV MO, Variáveis Derivadas das Odds"
      ],
      "metadata": {
        "id": "xB2L0eJ3b78Q"
      }
    },
    {
      "cell_type": "markdown",
      "source": [
        "##### Probabilidades"
      ],
      "metadata": {
        "id": "Wa6K6Gd0q4AE"
      }
    },
    {
      "cell_type": "code",
      "source": [
        "df['p_H'] = 1 / df['Odd_H_FT']\n",
        "df['p_D'] = 1 / df['Odd_D_FT']\n",
        "df['p_A'] = 1 / df['Odd_A_FT']"
      ],
      "metadata": {
        "id": "4lVM4M_4b-QW"
      },
      "execution_count": null,
      "outputs": []
    },
    {
      "cell_type": "markdown",
      "source": [
        "##### Coeficiente de Variação das Odds do Match Odds"
      ],
      "metadata": {
        "id": "tAVYFVLDq7pi"
      }
    },
    {
      "cell_type": "code",
      "source": [
        "desvio_padrao = df[['Odd_H_FT','Odd_D_FT','Odd_A_FT']].std(axis=1)\n",
        "media = df[['Odd_H_FT','Odd_D_FT','Odd_A_FT']].mean(axis=1)\n",
        "CV_Odds = desvio_padrao / media\n",
        "df['CV_Odds'] = CV_Odds"
      ],
      "metadata": {
        "id": "w3evlr7Lq-aB"
      },
      "execution_count": null,
      "outputs": []
    },
    {
      "cell_type": "markdown",
      "source": [
        "##### Proporção entre as Odds"
      ],
      "metadata": {
        "id": "yRdFZj_srEug"
      }
    },
    {
      "cell_type": "code",
      "source": [
        "df['H_D'] = df['Odd_H_FT'] / df['Odd_D_FT']\n",
        "df['H_A'] = df['Odd_H_FT'] / df['Odd_A_FT']\n",
        "df['D_H'] = df['Odd_D_FT'] / df['Odd_H_FT']\n",
        "df['D_A'] = df['Odd_D_FT'] / df['Odd_A_FT']\n",
        "df['A_H'] = df['Odd_A_FT'] / df['Odd_H_FT']\n",
        "df['A_D'] = df['Odd_A_FT'] / df['Odd_D_FT']"
      ],
      "metadata": {
        "id": "QCJbOAm-rE36"
      },
      "execution_count": null,
      "outputs": []
    },
    {
      "cell_type": "markdown",
      "source": [
        "##### Diferença Absoluta entre as Odds"
      ],
      "metadata": {
        "id": "A7iIOd0JrFDt"
      }
    },
    {
      "cell_type": "code",
      "source": [
        "df['DifAbs_HomeAway'] = np.abs(df['Odd_H_FT'] - df['Odd_A_FT'])\n",
        "df['DifAbs_HomeDraw'] = np.abs(df['Odd_H_FT'] - df['Odd_D_FT'])\n",
        "df['DifAbs_DrawAway'] = np.abs(df['Odd_D_FT'] - df['Odd_A_FT'])"
      ],
      "metadata": {
        "id": "PH5h4hcdrFNy"
      },
      "execution_count": null,
      "outputs": []
    },
    {
      "cell_type": "markdown",
      "source": [
        "##### Angulo de Disparidade entre as Odds"
      ],
      "metadata": {
        "id": "9pDnqCVjrFWb"
      }
    },
    {
      "cell_type": "code",
      "source": [
        "df['Angle_HomeAway'] = np.degrees(np.arctan((df['Odd_A_FT'] - df['Odd_H_FT']) / 2))\n",
        "df['Angle_HomeDraw'] = np.degrees(np.arctan((df['Odd_D_FT'] - df['Odd_H_FT']) / 2))\n",
        "df['Angle_DrawAway'] = np.degrees(np.arctan((df['Odd_A_FT'] - df['Odd_D_FT']) / 2))"
      ],
      "metadata": {
        "id": "7_z-rcwbrFfG"
      },
      "execution_count": null,
      "outputs": []
    },
    {
      "cell_type": "markdown",
      "source": [
        "##### Diferenças Percentuais entre as Odds"
      ],
      "metadata": {
        "id": "WbTRDuLlrFn-"
      }
    },
    {
      "cell_type": "code",
      "source": [
        "df['DifPer_HomeAway'] = np.abs((df['Odd_H_FT'] - df['Odd_A_FT'])) / df['Odd_A_FT']\n",
        "df['DifPer_HomeDraw'] = np.abs((df['Odd_H_FT'] - df['Odd_D_FT'])) / df['Odd_D_FT']\n",
        "df['DifPer_DrawAway'] = np.abs((df['Odd_D_FT'] - df['Odd_A_FT'])) / df['Odd_A_FT']"
      ],
      "metadata": {
        "id": "6Q8ytZebrFwZ"
      },
      "execution_count": null,
      "outputs": []
    },
    {
      "cell_type": "code",
      "source": [
        "display(df)"
      ],
      "metadata": {
        "id": "aCFZa18YufaJ"
      },
      "execution_count": null,
      "outputs": []
    },
    {
      "cell_type": "markdown",
      "source": [
        "### Variáveis de Desempenho"
      ],
      "metadata": {
        "id": "RZNVQUJxb-wQ"
      }
    },
    {
      "cell_type": "markdown",
      "source": [
        "##### Média de Pontos (PPG)"
      ],
      "metadata": {
        "id": "fkQMmv6HtHT4"
      }
    },
    {
      "cell_type": "code",
      "source": [
        "n_per = 5"
      ],
      "metadata": {
        "id": "6pYjMffztHoH"
      },
      "execution_count": null,
      "outputs": []
    },
    {
      "cell_type": "code",
      "source": [
        "df['Ptos_H'] = np.where(df['Goals_H_FT'] >  df['Goals_A_FT'], 3,\n",
        "               np.where(df['Goals_H_FT'] == df['Goals_A_FT'], 1, 0))\n",
        "\n",
        "\n",
        "df['Ptos_A'] = np.where(df['Goals_H_FT'] >  df['Goals_A_FT'], 0,\n",
        "               np.where(df['Goals_H_FT'] == df['Goals_A_FT'], 1, 3))\n",
        "\n",
        "df['Media_Ptos_H'] = df.groupby('Home')['Ptos_H'].rolling(window=n_per, min_periods=n_per).mean().reset_index(0,drop=True)\n",
        "df['Media_Ptos_A'] = df.groupby('Away')['Ptos_A'].rolling(window=n_per, min_periods=n_per).mean().reset_index(0,drop=True)\n",
        "df['Media_Ptos_H'] = df.groupby('Home')['Media_Ptos_H'].shift(1)\n",
        "df['Media_Ptos_A'] = df.groupby('Away')['Media_Ptos_A'].shift(1)\n",
        "\n",
        "df['DesvPad_Ptos_H'] = df.groupby('Home')['Ptos_H'].rolling(window=n_per, min_periods=n_per).std().reset_index(0,drop=True)\n",
        "df['DesvPad_Ptos_A'] = df.groupby('Away')['Ptos_A'].rolling(window=n_per, min_periods=n_per).std().reset_index(0,drop=True)\n",
        "df['DesvPad_Ptos_H'] = df.groupby('Home')['DesvPad_Ptos_H'].shift(1)\n",
        "df['DesvPad_Ptos_A'] = df.groupby('Away')['DesvPad_Ptos_A'].shift(1)\n",
        "\n",
        "df['CV_Ptos_H'] = df['DesvPad_Ptos_H'] / df['Media_Ptos_H']\n",
        "df['CV_Ptos_A'] = df['DesvPad_Ptos_A'] / df['Media_Ptos_A']"
      ],
      "metadata": {
        "id": "XtbBD7evtNYp"
      },
      "execution_count": null,
      "outputs": []
    },
    {
      "cell_type": "markdown",
      "source": [
        "##### Média Gols Marcados"
      ],
      "metadata": {
        "id": "OGuzEaeAtHwj"
      }
    },
    {
      "cell_type": "code",
      "source": [
        "df['Media_GM_H'] = df.groupby('Home')['Goals_H_FT'].rolling(window=n_per, min_periods=n_per).mean().reset_index(0,drop=True)\n",
        "df['Media_GM_A'] = df.groupby('Away')['Goals_A_FT'].rolling(window=n_per, min_periods=n_per).mean().reset_index(0,drop=True)\n",
        "df['Media_GM_H'] = df.groupby('Home')['Media_GM_H'].shift(1)\n",
        "df['Media_GM_A'] = df.groupby('Away')['Media_GM_A'].shift(1)\n",
        "\n",
        "df['DesvPad_GM_H'] = df.groupby('Home')['Goals_H_FT'].rolling(window=n_per, min_periods=n_per).std().reset_index(0,drop=True)\n",
        "df['DesvPad_GM_A'] = df.groupby('Away')['Goals_A_FT'].rolling(window=n_per, min_periods=n_per).std().reset_index(0,drop=True)\n",
        "df['DesvPad_GM_H'] = df.groupby('Home')['DesvPad_GM_H'].shift(1)\n",
        "df['DesvPad_GM_A'] = df.groupby('Away')['DesvPad_GM_A'].shift(1)\n",
        "\n",
        "df['CV_GM_H'] = df['DesvPad_GM_H'] / df['Media_GM_H']\n",
        "df['CV_GM_A'] = df['DesvPad_GM_A'] / df['Media_GM_A']"
      ],
      "metadata": {
        "id": "XF2KV9xRtH4Y"
      },
      "execution_count": null,
      "outputs": []
    },
    {
      "cell_type": "markdown",
      "source": [
        "##### Média de Gols Sofridos"
      ],
      "metadata": {
        "id": "4BUM7RnGtH_M"
      }
    },
    {
      "cell_type": "code",
      "source": [
        "df['Media_GS_H'] = df.groupby('Home')['Goals_A_FT'].rolling(window=n_per, min_periods=n_per).mean().reset_index(0,drop=True)\n",
        "df['Media_GS_A'] = df.groupby('Away')['Goals_H_FT'].rolling(window=n_per, min_periods=n_per).mean().reset_index(0,drop=True)\n",
        "df['Media_GS_H'] = df.groupby('Home')['Media_GS_H'].shift(1)\n",
        "df['Media_GS_A'] = df.groupby('Away')['Media_GS_A'].shift(1)\n",
        "\n",
        "df['DesvPad_GS_H'] = df.groupby('Home')['Goals_A_FT'].rolling(window=n_per, min_periods=n_per).std().reset_index(0,drop=True)\n",
        "df['DesvPad_GS_A'] = df.groupby('Away')['Goals_H_FT'].rolling(window=n_per, min_periods=n_per).std().reset_index(0,drop=True)\n",
        "df['DesvPad_GS_H'] = df.groupby('Home')['DesvPad_GS_H'].shift(1)\n",
        "df['DesvPad_GS_A'] = df.groupby('Away')['DesvPad_GS_A'].shift(1)\n",
        "\n",
        "df['CV_GS_H'] = df['DesvPad_GS_H'] / df['Media_GS_H']\n",
        "df['CV_GS_A'] = df['DesvPad_GS_A'] / df['Media_GS_A']"
      ],
      "metadata": {
        "id": "Kt34LagqtIFv"
      },
      "execution_count": null,
      "outputs": []
    },
    {
      "cell_type": "markdown",
      "source": [
        "##### Média de Saldo de Gols"
      ],
      "metadata": {
        "id": "XufP57TFtIMd"
      }
    },
    {
      "cell_type": "code",
      "source": [
        "df['SG_H'] = df['Goals_H_FT'] - df['Goals_A_FT']\n",
        "df['SG_A'] = df['Goals_A_FT'] - df['Goals_H_FT']\n",
        "\n",
        "df['Media_SG_H'] = df.groupby('Home')['SG_H'].rolling(window=n_per, min_periods=n_per).mean().reset_index(0,drop=True)\n",
        "df['Media_SG_A'] = df.groupby('Away')['SG_A'].rolling(window=n_per, min_periods=n_per).mean().reset_index(0,drop=True)\n",
        "df['Media_SG_H'] = df.groupby('Home')['Media_SG_H'].shift(1)\n",
        "df['Media_SG_A'] = df.groupby('Away')['Media_SG_A'].shift(1)\n",
        "\n",
        "df['DesvPad_SG_H'] = df.groupby('Home')['SG_H'].rolling(window=n_per, min_periods=n_per).std().reset_index(0,drop=True)\n",
        "df['DesvPad_SG_A'] = df.groupby('Away')['SG_A'].rolling(window=n_per, min_periods=n_per).std().reset_index(0,drop=True)\n",
        "df['DesvPad_SG_H'] = df.groupby('Home')['DesvPad_SG_H'].shift(1)\n",
        "df['DesvPad_SG_A'] = df.groupby('Away')['DesvPad_SG_A'].shift(1)\n",
        "\n",
        "df['CV_SG_H'] = df['DesvPad_SG_H'] / df['Media_SG_H']\n",
        "df['CV_SG_A'] = df['DesvPad_SG_A'] / df['Media_SG_A']"
      ],
      "metadata": {
        "id": "n4o_dqDMtITt"
      },
      "execution_count": null,
      "outputs": []
    },
    {
      "cell_type": "code",
      "source": [
        "display(df)"
      ],
      "metadata": {
        "id": "GZRyFxk7ub4d"
      },
      "execution_count": null,
      "outputs": []
    },
    {
      "cell_type": "markdown",
      "source": [
        "### Variáveis de Desempenho Ponderadas Pela Odd"
      ],
      "metadata": {
        "id": "1Rhc0GL4cCO7"
      }
    },
    {
      "cell_type": "markdown",
      "source": [
        "##### Média de Saldo de Gols Ponderado pela Probabilidade do Time"
      ],
      "metadata": {
        "id": "lDqfVZoTtwUN"
      }
    },
    {
      "cell_type": "code",
      "source": [
        "df['SG_H_01'] = (df['Goals_H_FT'] - df['Goals_A_FT']) / df['p_H']\n",
        "df['SG_A_01'] = (df['Goals_A_FT'] - df['Goals_H_FT']) / df['p_A']\n",
        "\n",
        "df['Media_SG_H_01'] = df.groupby('Home')['SG_H_01'].rolling(window=n_per, min_periods=n_per).mean().reset_index(0,drop=True)\n",
        "df['Media_SG_A_01'] = df.groupby('Away')['SG_A_01'].rolling(window=n_per, min_periods=n_per).mean().reset_index(0,drop=True)\n",
        "df['Media_SG_H_01'] = df.groupby('Home')['Media_SG_H_01'].shift(1)\n",
        "df['Media_SG_A_01'] = df.groupby('Away')['Media_SG_A_01'].shift(1)\n",
        "\n",
        "df['DesvPad_SG_H_01'] = df.groupby('Home')['SG_H_01'].rolling(window=n_per, min_periods=n_per).std().reset_index(0,drop=True)\n",
        "df['DesvPad_SG_A_01'] = df.groupby('Away')['SG_A_01'].rolling(window=n_per, min_periods=n_per).std().reset_index(0,drop=True)\n",
        "df['DesvPad_SG_H_01'] = df.groupby('Home')['DesvPad_SG_H_01'].shift(1)\n",
        "df['DesvPad_SG_A_01'] = df.groupby('Away')['DesvPad_SG_A_01'].shift(1)\n",
        "\n",
        "df['CV_SG_H_01'] = df['DesvPad_SG_H_01'] / df['Media_SG_H_01']\n",
        "df['CV_SG_A_01'] = df['DesvPad_SG_A_01'] / df['Media_SG_A_01']"
      ],
      "metadata": {
        "id": "wgYD_zhKtwgF"
      },
      "execution_count": null,
      "outputs": []
    },
    {
      "cell_type": "markdown",
      "source": [
        "##### Média de Saldo de Gols Ponderado pela Probabilidade do Adversário"
      ],
      "metadata": {
        "id": "1Qxm8aEctwn0"
      }
    },
    {
      "cell_type": "code",
      "source": [
        "df['SG_H_02'] = (df['Goals_H_FT'] - df['Goals_A_FT']) / df['p_A']\n",
        "df['SG_A_02'] = (df['Goals_A_FT'] - df['Goals_H_FT']) / df['p_H']\n",
        "\n",
        "df['Media_SG_H_02'] = df.groupby('Home')['SG_H_02'].rolling(window=n_per, min_periods=n_per).mean().reset_index(0,drop=True)\n",
        "df['Media_SG_A_02'] = df.groupby('Away')['SG_A_02'].rolling(window=n_per, min_periods=n_per).mean().reset_index(0,drop=True)\n",
        "df['Media_SG_H_02'] = df.groupby('Home')['Media_SG_H_02'].shift(1)\n",
        "df['Media_SG_A_02'] = df.groupby('Away')['Media_SG_A_02'].shift(1)\n",
        "\n",
        "df['DesvPad_SG_H_02'] = df.groupby('Home')['SG_H_02'].rolling(window=n_per, min_periods=n_per).std().reset_index(0,drop=True)\n",
        "df['DesvPad_SG_A_02'] = df.groupby('Away')['SG_A_02'].rolling(window=n_per, min_periods=n_per).std().reset_index(0,drop=True)\n",
        "df['DesvPad_SG_H_02'] = df.groupby('Home')['DesvPad_SG_H_02'].shift(1)\n",
        "df['DesvPad_SG_A_02'] = df.groupby('Away')['DesvPad_SG_A_02'].shift(1)\n",
        "\n",
        "df['CV_SG_H_02'] = df['DesvPad_SG_H_02'] / df['Media_SG_H_02']\n",
        "df['CV_SG_A_02'] = df['DesvPad_SG_A_02'] / df['Media_SG_A_02']"
      ],
      "metadata": {
        "id": "0OPfJ6mqtwu2"
      },
      "execution_count": null,
      "outputs": []
    },
    {
      "cell_type": "markdown",
      "source": [
        "##### Média do Valor do Gol"
      ],
      "metadata": {
        "id": "v0JRW_fItw1M"
      }
    },
    {
      "cell_type": "code",
      "source": [
        "df['VG_H'] = df['Goals_H_FT'] * df['p_A']\n",
        "df['VG_A'] = df['Goals_A_FT'] * df['p_H']\n",
        "\n",
        "df['Media_VG_H'] = df.groupby('Home')['VG_H'].rolling(window=n_per, min_periods=n_per).mean().reset_index(0,drop=True)\n",
        "df['Media_VG_A'] = df.groupby('Away')['VG_A'].rolling(window=n_per, min_periods=n_per).mean().reset_index(0,drop=True)\n",
        "df['Media_VG_H'] = df.groupby('Home')['Media_VG_H'].shift(1)\n",
        "df['Media_VG_A'] = df.groupby('Away')['Media_VG_A'].shift(1)\n",
        "\n",
        "df['DesvPad_VG_H'] = df.groupby('Home')['VG_H'].rolling(window=n_per, min_periods=n_per).std().reset_index(0,drop=True)\n",
        "df['DesvPad_VG_A'] = df.groupby('Away')['VG_A'].rolling(window=n_per, min_periods=n_per).std().reset_index(0,drop=True)\n",
        "df['DesvPad_VG_H'] = df.groupby('Home')['DesvPad_VG_H'].shift(1)\n",
        "df['DesvPad_VG_A'] = df.groupby('Away')['DesvPad_VG_A'].shift(1)\n",
        "\n",
        "df['CV_VG_H'] = df['DesvPad_VG_H'] / df['Media_VG_H']\n",
        "df['CV_VG_A'] = df['DesvPad_VG_A'] / df['Media_VG_A']"
      ],
      "metadata": {
        "id": "H61aqr4ztw79"
      },
      "execution_count": null,
      "outputs": []
    },
    {
      "cell_type": "markdown",
      "source": [
        "##### Custo do Gol"
      ],
      "metadata": {
        "id": "8oSnnmZOtxCL"
      }
    },
    {
      "cell_type": "code",
      "source": [
        "# Custo do Gol 1.0\n",
        "\n",
        "df['CG_H_01'] = df['Goals_H_FT'] / df['p_H']\n",
        "df['CG_A_01'] = df['Goals_A_FT'] / df['p_A']\n",
        "\n",
        "df['Media_CG_H_01'] = df.groupby('Home')['CG_H_01'].rolling(window=n_per, min_periods=n_per).mean().reset_index(0,drop=True)\n",
        "df['Media_CG_A_01'] = df.groupby('Away')['CG_A_01'].rolling(window=n_per, min_periods=n_per).mean().reset_index(0,drop=True)\n",
        "df['Media_CG_H_01'] = df.groupby('Home')['Media_CG_H_01'].shift(1)\n",
        "df['Media_CG_A_01'] = df.groupby('Away')['Media_CG_A_01'].shift(1)\n",
        "\n",
        "df['DesvPad_CG_H_01'] = df.groupby('Home')['CG_H_01'].rolling(window=n_per, min_periods=n_per).std().reset_index(0,drop=True)\n",
        "df['DesvPad_CG_A_01'] = df.groupby('Away')['CG_A_01'].rolling(window=n_per, min_periods=n_per).std().reset_index(0,drop=True)\n",
        "df['DesvPad_CG_H_01'] = df.groupby('Home')['DesvPad_CG_H_01'].shift(1)\n",
        "df['DesvPad_CG_A_01'] = df.groupby('Away')['DesvPad_CG_A_01'].shift(1)\n",
        "\n",
        "df['CV_CG_H_01'] = df['DesvPad_CG_H_01'] / df['Media_CG_H_01']\n",
        "df['CV_CG_A_01'] = df['DesvPad_CG_A_01'] / df['Media_CG_A_01']"
      ],
      "metadata": {
        "id": "U-eGD5BltxJU"
      },
      "execution_count": null,
      "outputs": []
    },
    {
      "cell_type": "code",
      "source": [
        "# Custo do Gol 2.0\n",
        "\n",
        "df['CG_H_02'] = (df['Goals_H_FT'] / 2) + (df['p_H'] / 2)\n",
        "df['CG_A_02'] = (df['Goals_A_FT'] / 2) + (df['p_A'] / 2)\n",
        "\n",
        "df['Media_CG_H_02'] = df.groupby('Home')['CG_H_02'].rolling(window=n_per, min_periods=n_per).mean().reset_index(0,drop=True)\n",
        "df['Media_CG_A_02'] = df.groupby('Away')['CG_A_02'].rolling(window=n_per, min_periods=n_per).mean().reset_index(0,drop=True)\n",
        "df['Media_CG_H_02'] = df.groupby('Home')['Media_CG_H_02'].shift(1)\n",
        "df['Media_CG_A_02'] = df.groupby('Away')['Media_CG_A_02'].shift(1)\n",
        "\n",
        "df['DesvPad_CG_H_02'] = df.groupby('Home')['CG_H_02'].rolling(window=n_per, min_periods=n_per).std().reset_index(0,drop=True)\n",
        "df['DesvPad_CG_A_02'] = df.groupby('Away')['CG_A_02'].rolling(window=n_per, min_periods=n_per).std().reset_index(0,drop=True)\n",
        "df['DesvPad_CG_H_02'] = df.groupby('Home')['DesvPad_CG_H_02'].shift(1)\n",
        "df['DesvPad_CG_A_02'] = df.groupby('Away')['DesvPad_CG_A_02'].shift(1)\n",
        "\n",
        "df['CV_CG_H_02'] = df['DesvPad_CG_H_02'] / df['Media_CG_H_02']\n",
        "df['CV_CG_A_02'] = df['DesvPad_CG_A_02'] / df['Media_CG_A_02']"
      ],
      "metadata": {
        "id": "UOFbr35gt-7c"
      },
      "execution_count": null,
      "outputs": []
    },
    {
      "cell_type": "code",
      "source": [
        "display(df)"
      ],
      "metadata": {
        "id": "qzZZOWx8uUmx"
      },
      "execution_count": null,
      "outputs": []
    },
    {
      "cell_type": "code",
      "source": [
        "df = drop_reset_index(df)\n",
        "display(df)"
      ],
      "metadata": {
        "id": "Lvqvg6wVp10u"
      },
      "execution_count": null,
      "outputs": []
    },
    {
      "cell_type": "code",
      "source": [
        "df = df.sort_values(by='Date')\n",
        "df = drop_reset_index(df)\n",
        "display(df)"
      ],
      "metadata": {
        "id": "iASdvT0_qSfB"
      },
      "execution_count": null,
      "outputs": []
    },
    {
      "cell_type": "code",
      "source": [
        "df.to_excel(\"Base_de_Dados_com_Variáveis.xlsx\", index=False)"
      ],
      "metadata": {
        "id": "f5rEXNUbqeh2"
      },
      "execution_count": null,
      "outputs": []
    }
  ]
}