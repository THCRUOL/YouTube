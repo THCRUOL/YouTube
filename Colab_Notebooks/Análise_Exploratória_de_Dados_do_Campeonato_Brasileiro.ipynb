{
  "cells": [
    {
      "cell_type": "markdown",
      "id": "8d2e8ba2",
      "metadata": {
        "id": "8d2e8ba2"
      },
      "source": [
        "### Importando as Bibliotecas e Funções"
      ]
    },
    {
      "cell_type": "code",
      "execution_count": null,
      "id": "c4d76b47",
      "metadata": {
        "id": "c4d76b47"
      },
      "outputs": [],
      "source": [
        "import pandas as pd\n",
        "import numpy as np\n",
        "import matplotlib.pyplot as plt\n",
        "import seaborn as sns\n",
        "import warnings\n",
        "\n",
        "pd.set_option('display.max_columns', None)\n",
        "warnings.filterwarnings('ignore')"
      ]
    },
    {
      "cell_type": "code",
      "execution_count": null,
      "id": "c143e405",
      "metadata": {
        "id": "c143e405"
      },
      "outputs": [],
      "source": [
        "def drop_reset_index(df):\n",
        "    df = df.dropna()\n",
        "    df = df.reset_index(drop=True)\n",
        "    df.index += 1\n",
        "    return df\n",
        "\n",
        "def plot_profit_acu(dataframe, title_text):\n",
        "    dataframe['Profit_acu'] = dataframe.Profit.cumsum()\n",
        "    dataframe['Investimento'] = 1\n",
        "    n_apostas = dataframe.shape[0]\n",
        "    profit = round(dataframe.Profit_acu.tail(1).item(), 2)\n",
        "    dataframe['Investimento_acu'] = dataframe.Investimento.cumsum()\n",
        "    ROI = round(((dataframe.Profit_acu.tail(1) / dataframe.Investimento_acu.tail(1)) * 100).item(), 2)\n",
        "    drawdown = dataframe['Profit_acu'] - dataframe['Profit_acu'].cummax()\n",
        "    drawdown_maximo = round(drawdown.min(), 2)\n",
        "    winrate_medio = round((dataframe['Profit'] > 0).mean() * 100, 2)\n",
        "    desvio_padrao = round(dataframe['Profit'].std(), 2)\n",
        "\n",
        "    ax = dataframe.Profit_acu.plot(title=title_text, xlabel='Entradas', ylabel='Stakes')\n",
        "    ax.set_title(title_text)\n",
        "    ax.set_xlabel('Entradas')\n",
        "    ax.set_ylabel('Stakes')\n",
        "\n",
        "    print(\"Metodo:\", title_text)\n",
        "    print(\"Profit:\", profit, \"stakes em\", n_apostas, \"jogos\")\n",
        "    print(\"ROI:\", ROI, \"%\")\n",
        "    print(\"Drawdown Maximo Acumulado:\", drawdown_maximo)\n",
        "    print(\"Winrate Medio:\", winrate_medio, \"%\")\n",
        "    print(\"Desvio Padrao:\", desvio_padrao)\n",
        "    print(\"\")\n",
        "\n",
        "    plt.show()"
      ]
    },
    {
      "cell_type": "markdown",
      "source": [
        "### Importando a Base de Dados"
      ],
      "metadata": {
        "id": "VgEDgRN1wglG"
      },
      "id": "VgEDgRN1wglG"
    },
    {
      "cell_type": "code",
      "execution_count": null,
      "id": "9d49a5d9",
      "metadata": {
        "id": "9d49a5d9"
      },
      "outputs": [],
      "source": [
        "df = pd.read_csv(\"https://www.football-data.co.uk/new/BRA.csv\")\n",
        "df = df[['Country','League','Season','Date','Time','Home','Away',\n",
        "         'HG','AG','Res','PSCH','PSCD','PSCA']]\n",
        "df.columns = ['Country','League','Season','Date','Time','Home','Away',\n",
        "              'Goals_H','Goals_A','Result','Odd_H','Odd_D','Odd_A']\n",
        "df = drop_reset_index(df)\n",
        "display(df)"
      ]
    },
    {
      "cell_type": "markdown",
      "source": [
        "### Criando as Variáveis"
      ],
      "metadata": {
        "id": "SH5s6h6_wkUQ"
      },
      "id": "SH5s6h6_wkUQ"
    },
    {
      "cell_type": "markdown",
      "source": [
        "##### Coeficiente de Variação das Odds do Match Odds"
      ],
      "metadata": {
        "id": "pw9eXYjqvNaJ"
      },
      "id": "pw9eXYjqvNaJ"
    },
    {
      "cell_type": "code",
      "source": [
        "desvio_padrao = df[['Odd_H','Odd_D','Odd_A']].std(axis=1)\n",
        "media = df[['Odd_H','Odd_D','Odd_A']].mean(axis=1)\n",
        "CV_Odds = desvio_padrao / media\n",
        "df['CV_Odds'] = CV_Odds"
      ],
      "metadata": {
        "id": "-aTkGYMFvMon"
      },
      "id": "-aTkGYMFvMon",
      "execution_count": null,
      "outputs": []
    },
    {
      "cell_type": "markdown",
      "source": [
        "##### Média de Pontos (PPG)"
      ],
      "metadata": {
        "id": "5N4NszHjvTSU"
      },
      "id": "5N4NszHjvTSU"
    },
    {
      "cell_type": "code",
      "execution_count": null,
      "id": "3a1c8637",
      "metadata": {
        "id": "3a1c8637"
      },
      "outputs": [],
      "source": [
        "n_per = 5\n",
        "\n",
        "df['Ptos_H'] = np.where(df['Goals_H'] >  df['Goals_A'], 3,\n",
        "               np.where(df['Goals_H'] == df['Goals_A'], 1, 0))\n",
        "\n",
        "\n",
        "df['Ptos_A'] = np.where(df['Goals_H'] > df['Goals_A'], 0,\n",
        "               np.where(df['Goals_H'] == df['Goals_A'], 1, 3))\n",
        "\n",
        "df['Media_Ptos_H'] = df.groupby('Home')['Ptos_H'].rolling(window=n_per, min_periods=n_per).mean().reset_index(0,drop=True)\n",
        "df['Media_Ptos_A'] = df.groupby('Away')['Ptos_A'].rolling(window=n_per, min_periods=n_per).mean().reset_index(0,drop=True)\n",
        "df['Media_Ptos_H'] = df.groupby('Home')['Media_Ptos_H'].shift(1)\n",
        "df['Media_Ptos_A'] = df.groupby('Away')['Media_Ptos_A'].shift(1)\n",
        "\n",
        "df['DesvPad_Ptos_H'] = df.groupby('Home')['Ptos_H'].rolling(window=n_per, min_periods=n_per).std().reset_index(0,drop=True)\n",
        "df['DesvPad_Ptos_A'] = df.groupby('Away')['Ptos_A'].rolling(window=n_per, min_periods=n_per).std().reset_index(0,drop=True)\n",
        "df['DesvPad_Ptos_H'] = df.groupby('Home')['DesvPad_Ptos_H'].shift(1)\n",
        "df['DesvPad_Ptos_A'] = df.groupby('Away')['DesvPad_Ptos_A'].shift(1)\n",
        "\n",
        "df['CV_Ptos_H'] = df['DesvPad_Ptos_H'] / df['Media_Ptos_H']\n",
        "df['CV_Ptos_A'] = df['DesvPad_Ptos_A'] / df['Media_Ptos_A']"
      ]
    },
    {
      "cell_type": "markdown",
      "source": [
        "##### Média Gols Marcados"
      ],
      "metadata": {
        "id": "b-SivyD-vY1a"
      },
      "id": "b-SivyD-vY1a"
    },
    {
      "cell_type": "code",
      "source": [
        "df['Media_GM_H'] = df.groupby('Home')['Goals_H'].rolling(window=n_per, min_periods=n_per).mean().reset_index(0,drop=True)\n",
        "df['Media_GM_A'] = df.groupby('Away')['Goals_A'].rolling(window=n_per, min_periods=n_per).mean().reset_index(0,drop=True)\n",
        "df['Media_GM_H'] = df.groupby('Home')['Media_GM_H'].shift(1)\n",
        "df['Media_GM_A'] = df.groupby('Away')['Media_GM_A'].shift(1)\n",
        "\n",
        "df['DesvPad_GM_H'] = df.groupby('Home')['Goals_H'].rolling(window=n_per, min_periods=n_per).std().reset_index(0,drop=True)\n",
        "df['DesvPad_GM_A'] = df.groupby('Away')['Goals_A'].rolling(window=n_per, min_periods=n_per).std().reset_index(0,drop=True)\n",
        "df['DesvPad_GM_H'] = df.groupby('Home')['DesvPad_GM_H'].shift(1)\n",
        "df['DesvPad_GM_A'] = df.groupby('Away')['DesvPad_GM_A'].shift(1)\n",
        "\n",
        "df['CV_GM_H'] = df['DesvPad_GM_H'] / df['Media_GM_H']\n",
        "df['CV_GM_A'] = df['DesvPad_GM_A'] / df['Media_GM_A']"
      ],
      "metadata": {
        "id": "b7a50ISuvYgX"
      },
      "id": "b7a50ISuvYgX",
      "execution_count": null,
      "outputs": []
    },
    {
      "cell_type": "markdown",
      "source": [
        "##### Média de Gols Sofridos"
      ],
      "metadata": {
        "id": "1J7-VaH8vdQQ"
      },
      "id": "1J7-VaH8vdQQ"
    },
    {
      "cell_type": "code",
      "execution_count": null,
      "id": "a560fb1d",
      "metadata": {
        "id": "a560fb1d"
      },
      "outputs": [],
      "source": [
        "df['Media_GS_H'] = df.groupby('Home')['Goals_A'].rolling(window=n_per, min_periods=n_per).mean().reset_index(0,drop=True)\n",
        "df['Media_GS_A'] = df.groupby('Away')['Goals_H'].rolling(window=n_per, min_periods=n_per).mean().reset_index(0,drop=True)\n",
        "df['Media_GS_H'] = df.groupby('Home')['Media_GS_H'].shift(1)\n",
        "df['Media_GS_A'] = df.groupby('Away')['Media_GS_A'].shift(1)\n",
        "\n",
        "df['DesvPad_GS_H'] = df.groupby('Home')['Goals_A'].rolling(window=n_per, min_periods=n_per).std().reset_index(0,drop=True)\n",
        "df['DesvPad_GS_A'] = df.groupby('Away')['Goals_H'].rolling(window=n_per, min_periods=n_per).std().reset_index(0,drop=True)\n",
        "df['DesvPad_GS_H'] = df.groupby('Home')['DesvPad_GS_H'].shift(1)\n",
        "df['DesvPad_GS_A'] = df.groupby('Away')['DesvPad_GS_A'].shift(1)\n",
        "\n",
        "df['CV_GS_H'] = df['DesvPad_GS_H'] / df['Media_GS_H']\n",
        "df['CV_GS_A'] = df['DesvPad_GS_A'] / df['Media_GS_A']"
      ]
    },
    {
      "cell_type": "markdown",
      "source": [
        "##### Média de Saldo de Gols"
      ],
      "metadata": {
        "id": "B7KUOWoCvi04"
      },
      "id": "B7KUOWoCvi04"
    },
    {
      "cell_type": "code",
      "source": [
        "df['SG_H'] = df['Goals_H'] - df['Goals_A']\n",
        "df['SG_A'] = df['Goals_A'] - df['Goals_H']\n",
        "\n",
        "df['Media_SG_H'] = df.groupby('Home')['SG_H'].rolling(window=n_per, min_periods=n_per).mean().reset_index(0,drop=True)\n",
        "df['Media_SG_A'] = df.groupby('Away')['SG_A'].rolling(window=n_per, min_periods=n_per).mean().reset_index(0,drop=True)\n",
        "df['Media_SG_H'] = df.groupby('Home')['Media_SG_H'].shift(1)\n",
        "df['Media_SG_A'] = df.groupby('Away')['Media_SG_A'].shift(1)\n",
        "\n",
        "df['DesvPad_SG_H'] = df.groupby('Home')['SG_H'].rolling(window=n_per, min_periods=n_per).std().reset_index(0,drop=True)\n",
        "df['DesvPad_SG_A'] = df.groupby('Away')['SG_A'].rolling(window=n_per, min_periods=n_per).std().reset_index(0,drop=True)\n",
        "df['DesvPad_SG_H'] = df.groupby('Home')['DesvPad_SG_H'].shift(1)\n",
        "df['DesvPad_SG_A'] = df.groupby('Away')['DesvPad_SG_A'].shift(1)\n",
        "\n",
        "df['CV_SG_H'] = df['DesvPad_SG_H'] / df['Media_SG_H']\n",
        "df['CV_SG_A'] = df['DesvPad_SG_A'] / df['Media_SG_A']"
      ],
      "metadata": {
        "id": "yhfXy9kfveqr"
      },
      "id": "yhfXy9kfveqr",
      "execution_count": null,
      "outputs": []
    },
    {
      "cell_type": "markdown",
      "source": [
        "##### Análise dos Resultados"
      ],
      "metadata": {
        "id": "jT99p7HmvqFe"
      },
      "id": "jT99p7HmvqFe"
    },
    {
      "cell_type": "code",
      "source": [
        "df['Back_Home'] = np.where((df['Goals_H'] >  df['Goals_A']), 1, 0)\n",
        "df['Back_Draw'] = np.where((df['Goals_H'] == df['Goals_A']), 1, 0)\n",
        "df['Back_Away'] = np.where((df['Goals_H']  < df['Goals_A']), 1, 0)\n",
        "\n",
        "df['Profit_Back_H'] = np.where((df['Back_Home'] == 1), df['Odd_H']-1, -1)\n",
        "df['Profit_Back_D'] = np.where((df['Back_Draw'] == 1), df['Odd_D']-1, -1)\n",
        "df['Profit_Back_A'] = np.where((df['Back_Away'] == 1), df['Odd_A']-1, -1)"
      ],
      "metadata": {
        "id": "TmylBf4Zvsib"
      },
      "id": "TmylBf4Zvsib",
      "execution_count": null,
      "outputs": []
    },
    {
      "cell_type": "code",
      "source": [
        "flt = (df.Season == 2023) | (df.Season == 2024)\n",
        "df = df[flt]\n",
        "df = drop_reset_index(df)\n",
        "display(df)"
      ],
      "metadata": {
        "id": "rG1lw9jrwRS2"
      },
      "id": "rG1lw9jrwRS2",
      "execution_count": null,
      "outputs": []
    },
    {
      "cell_type": "code",
      "source": [
        "df['Profit'] = df['Profit_Back_H']\n",
        "plot_profit_acu(df, 'Back Home')"
      ],
      "metadata": {
        "id": "60vdb6nPwtkN"
      },
      "id": "60vdb6nPwtkN",
      "execution_count": null,
      "outputs": []
    },
    {
      "cell_type": "code",
      "source": [
        "df['Profit'] = df['Profit_Back_D']\n",
        "plot_profit_acu(df, 'Back Draw')"
      ],
      "metadata": {
        "id": "_WaZnqImxQEZ"
      },
      "id": "_WaZnqImxQEZ",
      "execution_count": null,
      "outputs": []
    },
    {
      "cell_type": "code",
      "source": [
        "df['Profit'] = df['Profit_Back_A']\n",
        "plot_profit_acu(df, 'Back Away')"
      ],
      "metadata": {
        "id": "5yh8MnEqxNZi"
      },
      "id": "5yh8MnEqxNZi",
      "execution_count": null,
      "outputs": []
    },
    {
      "cell_type": "markdown",
      "source": [
        "### Análise Exploratória dos Dados"
      ],
      "metadata": {
        "id": "wETvdqwhwpd4"
      },
      "id": "wETvdqwhwpd4"
    },
    {
      "cell_type": "code",
      "source": [
        "# Informações básicas da base de dados\n",
        "df.info()"
      ],
      "metadata": {
        "id": "BjsftcgOwsan"
      },
      "id": "BjsftcgOwsan",
      "execution_count": null,
      "outputs": []
    },
    {
      "cell_type": "code",
      "source": [
        "# Estatísticas descritivas das variáveis numéricas\n",
        "df.describe()"
      ],
      "metadata": {
        "id": "oed9zSEMy04L"
      },
      "id": "oed9zSEMy04L",
      "execution_count": null,
      "outputs": []
    },
    {
      "cell_type": "code",
      "source": [
        "# Ajustar o estilo dos gráficos\n",
        "plt.style.use('seaborn-darkgrid')\n",
        "\n",
        "# Distribuição dos resultados (Vitória Casa, Empate, Vitória Visitante)\n",
        "result_counts = df['Result'].value_counts()\n",
        "plt.figure(figsize=(8,5))\n",
        "sns.barplot(x=result_counts.index, y=result_counts.values, palette='Blues_d')\n",
        "plt.title('Distribuição dos Resultados')\n",
        "plt.xlabel('Resultado')\n",
        "plt.ylabel('Contagem')\n",
        "plt.show()"
      ],
      "metadata": {
        "id": "cP_QaQrVy1NY"
      },
      "id": "cP_QaQrVy1NY",
      "execution_count": null,
      "outputs": []
    },
    {
      "cell_type": "code",
      "source": [
        "# Função para calcular a média de gols marcados e sofridos\n",
        "def calcular_media_gols(df, tipo):\n",
        "    if tipo == \"Home\":\n",
        "        media_gols_marcados = df.groupby('Home')['Goals_H'].mean()\n",
        "        media_gols_sofridos = df.groupby('Home')['Goals_A'].mean()\n",
        "    elif tipo == \"Away\":\n",
        "        media_gols_marcados = df.groupby('Away')['Goals_A'].mean()\n",
        "        media_gols_sofridos = df.groupby('Away')['Goals_H'].mean()\n",
        "\n",
        "    media_gols = pd.DataFrame({\n",
        "        f'Média_Gols_Marcados_{tipo}': media_gols_marcados,\n",
        "        f'Média_Gols_Sofridos_{tipo}': media_gols_sofridos\n",
        "    }).fillna(0)\n",
        "\n",
        "    return media_gols\n",
        "\n",
        "# Cálculo de médias de gols em casa e fora\n",
        "media_gols_casa = calcular_media_gols(df, 'Home')\n",
        "media_gols_fora = calcular_media_gols(df, 'Away')\n",
        "\n",
        "# Unir os resultados das médias de gols para cada time\n",
        "media_gols_gerais = pd.concat([media_gols_casa, media_gols_fora], axis=1)\n",
        "\n",
        "display(media_gols_gerais)"
      ],
      "metadata": {
        "id": "wMIbp3_b5OhI"
      },
      "id": "wMIbp3_b5OhI",
      "execution_count": null,
      "outputs": []
    },
    {
      "cell_type": "code",
      "source": [
        "# Histograma da distribuição de gols marcados pelos times da casa e visitantes\n",
        "plt.figure(figsize=(12, 6))\n",
        "\n",
        "# Gols dos times da casa\n",
        "plt.subplot(1, 2, 1)\n",
        "sns.histplot(df['Goals_H'], bins=10, kde=True, color='blue')\n",
        "plt.title('Distribuição de Gols Marcados pelos Times da Casa')\n",
        "plt.xlabel('Gols')\n",
        "plt.ylabel('Frequência')\n",
        "\n",
        "# Gols dos times visitantes\n",
        "plt.subplot(1, 2, 2)\n",
        "sns.histplot(df['Goals_A'], bins=10, kde=True, color='red')\n",
        "plt.title('Distribuição de Gols Marcados pelos Times Visitantes')\n",
        "plt.xlabel('Gols')\n",
        "plt.ylabel('Frequência')\n",
        "\n",
        "plt.tight_layout()\n",
        "plt.show()\n",
        "\n",
        "# Visualizando a distribuição de odds\n",
        "plt.figure(figsize=(12, 6))\n",
        "\n",
        "# Odds para vitória da casa\n",
        "plt.subplot(1, 2, 1)\n",
        "sns.histplot(df['Odd_H'], bins=15, kde=True, color='green')\n",
        "plt.title('Distribuição das Odds para Vitórias da Casa')\n",
        "plt.xlabel('Odds')\n",
        "plt.ylabel('Frequência')\n",
        "\n",
        "# Odds para vitória do visitante\n",
        "plt.subplot(1, 2, 2)\n",
        "sns.histplot(df['Odd_A'], bins=15, kde=True, color='green')\n",
        "plt.title('Distribuição das Odds para Vitórias do Visitante')\n",
        "plt.xlabel('Odds')\n",
        "plt.ylabel('Frequência')\n",
        "\n",
        "plt.tight_layout()\n",
        "plt.show()"
      ],
      "metadata": {
        "id": "hor0F9c4194a"
      },
      "id": "hor0F9c4194a",
      "execution_count": null,
      "outputs": []
    },
    {
      "cell_type": "code",
      "source": [
        "colunas = ['Odd_H','Odd_D','Odd_A','CV_Odds',\n",
        "           'Media_Ptos_H','Media_Ptos_A','DesvPad_Ptos_H','DesvPad_Ptos_A','CV_Ptos_H','CV_Ptos_A',\n",
        "           'Media_GM_H','Media_GM_A','DesvPad_GM_H','DesvPad_GM_A','CV_GM_H','CV_GM_A',\n",
        "           'Media_GS_H','Media_GS_A','DesvPad_GS_H','DesvPad_GS_A','CV_GS_H','CV_GS_A',\n",
        "           'Media_SG_H','Media_SG_A','DesvPad_SG_H','DesvPad_SG_A','CV_SG_H','CV_SG_A',\n",
        "           'Profit_Back_H']\n",
        "\n",
        "df0 = df[colunas]\n",
        "display(df0)"
      ],
      "metadata": {
        "id": "TfBl2JbMzGNK"
      },
      "id": "TfBl2JbMzGNK",
      "execution_count": null,
      "outputs": []
    },
    {
      "cell_type": "code",
      "source": [
        "# Correlação entre variáveis numéricas\n",
        "plt.figure(figsize=(24,16))\n",
        "corr_matrix = df0.corr()\n",
        "sns.heatmap(corr_matrix, annot=True, cmap='coolwarm', linewidths=0.5)\n",
        "plt.title('Matriz de Correlação entre Variáveis Numéricas')\n",
        "plt.show()"
      ],
      "metadata": {
        "id": "3kXjxCff0_nw"
      },
      "id": "3kXjxCff0_nw",
      "execution_count": null,
      "outputs": []
    }
  ],
  "metadata": {
    "kernelspec": {
      "display_name": "Python 3",
      "name": "python3"
    },
    "language_info": {
      "codemirror_mode": {
        "name": "ipython",
        "version": 3
      },
      "file_extension": ".py",
      "mimetype": "text/x-python",
      "name": "python",
      "nbconvert_exporter": "python",
      "pygments_lexer": "ipython3",
      "version": "3.11.5"
    },
    "colab": {
      "provenance": [],
      "private_outputs": true,
      "collapsed_sections": [
        "8d2e8ba2",
        "VgEDgRN1wglG",
        "SH5s6h6_wkUQ",
        "pw9eXYjqvNaJ",
        "5N4NszHjvTSU",
        "b-SivyD-vY1a",
        "1J7-VaH8vdQQ",
        "B7KUOWoCvi04",
        "jT99p7HmvqFe",
        "wETvdqwhwpd4"
      ]
    }
  },
  "nbformat": 4,
  "nbformat_minor": 5
}